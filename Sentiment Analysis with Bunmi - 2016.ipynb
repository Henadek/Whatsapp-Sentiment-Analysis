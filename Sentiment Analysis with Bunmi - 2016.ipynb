{
 "cells": [
  {
   "cell_type": "markdown",
   "metadata": {},
   "source": [
    "# Load Data"
   ]
  },
  {
   "cell_type": "code",
   "execution_count": null,
   "metadata": {},
   "outputs": [],
   "source": [
    "# load all necessary modules via imports"
   ]
  },
  {
   "cell_type": "code",
   "execution_count": null,
   "metadata": {},
   "outputs": [],
   "source": [
    "import os\n",
    "# from emoji.unicode_codes import UNICODE_EMOJI\n",
    "import pandas as pd\n",
    "import numpy as np\n",
    "import matplotlib.pyplot as plt"
   ]
  },
  {
   "cell_type": "code",
   "execution_count": null,
   "metadata": {},
   "outputs": [],
   "source": [
    "IB = os.environ.get('INSTABASE_URI',None) is not None\n",
    "open = ib.open if IB else open"
   ]
  },
  {
   "cell_type": "code",
   "execution_count": null,
   "metadata": {},
   "outputs": [],
   "source": [
    "# load the data\n",
    "fh = open('BunmiOkeke.txt','rU')\n",
    "data = pd.read_csv(fh, sep = \"M - |: \", header = None, names = ['Time','Contact','Message'])\n",
    "data.describe()"
   ]
  },
  {
   "cell_type": "markdown",
   "metadata": {},
   "source": [
    "<h3>Analyse Messages with TextBlob</h3>"
   ]
  },
  {
   "cell_type": "code",
   "execution_count": null,
   "metadata": {},
   "outputs": [],
   "source": [
    "# from textblob import TextBlob\n",
    "\n",
    "# pip install textblob"
   ]
  },
  {
   "cell_type": "markdown",
   "metadata": {},
   "source": [
    "<h3>Analyse Messages with NLTK</h3>"
   ]
  },
  {
   "cell_type": "code",
   "execution_count": null,
   "metadata": {},
   "outputs": [],
   "source": [
    "import nltk\n",
    "from nltk import word_tokenize"
   ]
  },
  {
   "cell_type": "code",
   "execution_count": null,
   "metadata": {},
   "outputs": [],
   "source": [
    "# nltk.download()"
   ]
  },
  {
   "cell_type": "code",
   "execution_count": null,
   "metadata": {},
   "outputs": [],
   "source": [
    "test = data['Message'].tolist()\n",
    "test"
   ]
  },
  {
   "cell_type": "code",
   "execution_count": null,
   "metadata": {},
   "outputs": [],
   "source": [
    "# we'll try to incorporate handling emojis as well later...\n",
    "# watch out!!\n",
    "#     ;)     #"
   ]
  },
  {
   "cell_type": "code",
   "execution_count": null,
   "metadata": {
    "scrolled": false
   },
   "outputs": [],
   "source": [
    "count = 0\n",
    "error = 0\n",
    "allWords = []\n",
    "for message in test:\n",
    "    try:\n",
    "        words = word_tokenize(message.encode('utf-8').lower())\n",
    "        count+=1\n",
    "        allWords+=words\n",
    "#         print words,count\n",
    "    except: \n",
    "        error+=1\n",
    "        pass\n",
    "\n",
    "print error,'error words found'\n",
    "    "
   ]
  },
  {
   "cell_type": "code",
   "execution_count": null,
   "metadata": {},
   "outputs": [],
   "source": [
    "# Get Most Common Words\n",
    "from collections import Counter\n",
    "\n",
    "most_common = Counter(allWords)\n",
    "for words,count in most_common.most_common(): pass\n",
    "#     print words,count\n",
    "\n",
    "\n",
    "# len(allWords)"
   ]
  },
  {
   "cell_type": "code",
   "execution_count": null,
   "metadata": {},
   "outputs": [],
   "source": [
    "# Get the base root words in the message\n",
    "from nltk.stem import PorterStemmer\n",
    "\n",
    "porter = PorterStemmer()\n",
    "basewords = []\n",
    "\n",
    "for word in allWords:\n",
    "    stemmed_word = porter.stem(word)\n",
    "    basewords.append(stemmed_word)\n",
    "    \n",
    "print 'Raw-words =',len(allWords)\n",
    "print 'Base-words =',len(basewords)\n",
    "\n",
    "most_common_basewords = Counter(basewords)\n",
    "for word,count in most_common_basewords.most_common():pass\n",
    "#     print word,count"
   ]
  },
  {
   "cell_type": "code",
   "execution_count": null,
   "metadata": {},
   "outputs": [],
   "source": [
    "# remove unnecessary stopwords from basewords. e.g in,to,for,a,or, e.t.c\n",
    "from nltk.corpus import stopwords\n",
    "allstopwords = stopwords.words('english')\n",
    "realwords = []\n",
    "print 'Base-words =',len(basewords)\n",
    "\n",
    "for word,count in most_common_basewords.most_common():\n",
    "    if word in allstopwords or len(word)<2:\n",
    "        continue\n",
    "#         basewords.remove(word)\n",
    "    else:\n",
    "        realwords.append(word)\n",
    "\n",
    "print 'Real-words =',len(realwords)\n"
   ]
  },
  {
   "cell_type": "code",
   "execution_count": null,
   "metadata": {},
   "outputs": [],
   "source": [
    "# get most-common words in Real-words\n",
    "most_common_realwords = Counter(realwords)\n",
    "for word,count in most_common_realwords.most_common(20):\n",
    "    print word,count\n"
   ]
  },
  {
   "cell_type": "code",
   "execution_count": null,
   "metadata": {},
   "outputs": [],
   "source": [
    "# implement ngrams to better understand association between words in message\n",
    "from nltk import ngrams\n",
    "\n",
    "bigram_words = []\n",
    "for message in test:\n",
    "    try:\n",
    "        words = word_tokenize(message.encode('utf-8').lower())\n",
    "        bigrams = list(ngrams(words,3))\n",
    "        bigram_words += bigrams\n",
    "#         print words,count\n",
    "    except: \n",
    "        pass\n",
    "\n",
    "\n",
    "most_common_bigram_words = Counter(bigram_words)\n",
    "for word,count in most_common_bigram_words.most_common(50):\n",
    "    print word,count\n",
    "\n",
    "\n",
    "\n"
   ]
  },
  {
   "cell_type": "code",
   "execution_count": null,
   "metadata": {},
   "outputs": [],
   "source": []
  },
  {
   "cell_type": "code",
   "execution_count": null,
   "metadata": {},
   "outputs": [],
   "source": []
  }
 ],
 "metadata": {
  "kernelspec": {
   "display_name": "Python 2",
   "language": "python",
   "name": "python2"
  },
  "language_info": {
   "codemirror_mode": {
    "name": "ipython",
    "version": 2
   },
   "file_extension": ".py",
   "mimetype": "text/x-python",
   "name": "python",
   "nbconvert_exporter": "python",
   "pygments_lexer": "ipython2",
   "version": "2.7.14"
  }
 },
 "nbformat": 4,
 "nbformat_minor": 2
}
